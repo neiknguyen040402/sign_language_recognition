{
  "cells": [
    {
      "cell_type": "code",
      "source": [
        "from google.colab import drive\n",
        "drive.mount('/content/drive')"
      ],
      "metadata": {
        "id": "VEX8x_8lPcBx",
        "colab": {
          "base_uri": "https://localhost:8080/"
        },
        "outputId": "1ed1fcae-3dc2-4e6f-c225-702999692a1c"
      },
      "execution_count": 1,
      "outputs": [
        {
          "output_type": "stream",
          "name": "stdout",
          "text": [
            "Mounted at /content/drive\n"
          ]
        }
      ]
    },
    {
      "cell_type": "code",
      "source": [
        "!unzip /content/drive/MyDrive/datascience/dataset.zip -d /content/drive/MyDrive/datascience"
      ],
      "metadata": {
        "colab": {
          "base_uri": "https://localhost:8080/"
        },
        "id": "6mtaE-VhnpLO",
        "outputId": "e89ad4f1-81a3-4a04-bdf2-963ed80cf0e1"
      },
      "execution_count": 2,
      "outputs": [
        {
          "output_type": "stream",
          "name": "stdout",
          "text": [
            "\n",
            "  inflating: /content/drive/MyDrive/datascience/dataset/trainingData/Y/614.jpg  \n",
            "  inflating: /content/drive/MyDrive/datascience/dataset/trainingData/Y/615.jpg  \n",
            "  inflating: /content/drive/MyDrive/datascience/dataset/trainingData/Y/616.jpg  \n",
            "  inflating: /content/drive/MyDrive/datascience/dataset/trainingData/Y/617.jpg  \n",
            "  inflating: /content/drive/MyDrive/datascience/dataset/trainingData/Y/618.jpg  \n",
            "  inflating: /content/drive/MyDrive/datascience/dataset/trainingData/Y/619.jpg  \n",
            "  inflating: /content/drive/MyDrive/datascience/dataset/trainingData/Y/62.jpg  \n",
            "  inflating: /content/drive/MyDrive/datascience/dataset/trainingData/Y/620.jpg  \n",
            "  inflating: /content/drive/MyDrive/datascience/dataset/trainingData/Y/623.jpg  \n",
            "  inflating: /content/drive/MyDrive/datascience/dataset/trainingData/Y/624.jpg  \n",
            "  inflating: /content/drive/MyDrive/datascience/dataset/trainingData/Y/627.jpg  \n",
            "  inflating: /content/drive/MyDrive/datascience/dataset/trainingData/Y/628.jpg  \n",
            "  inflating: /content/drive/MyDrive/datascience/dataset/trainingData/Y/63.jpg  \n",
            "  inflating: /content/drive/MyDrive/datascience/dataset/trainingData/Y/630.jpg  \n",
            "  inflating: /content/drive/MyDrive/datascience/dataset/trainingData/Y/631.jpg  \n",
            "  inflating: /content/drive/MyDrive/datascience/dataset/trainingData/Y/64.jpg  \n",
            "  inflating: /content/drive/MyDrive/datascience/dataset/trainingData/Y/65.jpg  \n",
            "  inflating: /content/drive/MyDrive/datascience/dataset/trainingData/Y/66.jpg  \n",
            "  inflating: /content/drive/MyDrive/datascience/dataset/trainingData/Y/67.jpg  \n",
            "  inflating: /content/drive/MyDrive/datascience/dataset/trainingData/Y/68.jpg  \n",
            "  inflating: /content/drive/MyDrive/datascience/dataset/trainingData/Y/69.jpg  \n",
            "  inflating: /content/drive/MyDrive/datascience/dataset/trainingData/Y/7.jpg  \n",
            "  inflating: /content/drive/MyDrive/datascience/dataset/trainingData/Y/70.jpg  \n",
            "  inflating: /content/drive/MyDrive/datascience/dataset/trainingData/Y/72.jpg  \n",
            "  inflating: /content/drive/MyDrive/datascience/dataset/trainingData/Y/73.jpg  \n",
            "  inflating: /content/drive/MyDrive/datascience/dataset/trainingData/Y/74.jpg  \n",
            "  inflating: /content/drive/MyDrive/datascience/dataset/trainingData/Y/75.jpg  \n",
            "  inflating: /content/drive/MyDrive/datascience/dataset/trainingData/Y/76.jpg  \n",
            "  inflating: /content/drive/MyDrive/datascience/dataset/trainingData/Y/78.jpg  \n",
            "  inflating: /content/drive/MyDrive/datascience/dataset/trainingData/Y/8.jpg  \n",
            "  inflating: /content/drive/MyDrive/datascience/dataset/trainingData/Y/80.jpg  \n",
            "  inflating: /content/drive/MyDrive/datascience/dataset/trainingData/Y/81.jpg  \n",
            "  inflating: /content/drive/MyDrive/datascience/dataset/trainingData/Y/83.jpg  \n",
            "  inflating: /content/drive/MyDrive/datascience/dataset/trainingData/Y/84.jpg  \n",
            "  inflating: /content/drive/MyDrive/datascience/dataset/trainingData/Y/86.jpg  \n",
            "  inflating: /content/drive/MyDrive/datascience/dataset/trainingData/Y/87.jpg  \n",
            "  inflating: /content/drive/MyDrive/datascience/dataset/trainingData/Y/88.jpg  \n",
            "  inflating: /content/drive/MyDrive/datascience/dataset/trainingData/Y/89.jpg  \n",
            "  inflating: /content/drive/MyDrive/datascience/dataset/trainingData/Y/9.jpg  \n",
            "  inflating: /content/drive/MyDrive/datascience/dataset/trainingData/Y/90.jpg  \n",
            "  inflating: /content/drive/MyDrive/datascience/dataset/trainingData/Y/92.jpg  \n",
            "  inflating: /content/drive/MyDrive/datascience/dataset/trainingData/Y/94.jpg  \n",
            "  inflating: /content/drive/MyDrive/datascience/dataset/trainingData/Y/95.jpg  \n",
            "  inflating: /content/drive/MyDrive/datascience/dataset/trainingData/Y/97.jpg  \n",
            "  inflating: /content/drive/MyDrive/datascience/dataset/trainingData/Y/99.jpg  \n",
            "   creating: /content/drive/MyDrive/datascience/dataset/trainingData/Z/\n",
            "  inflating: /content/drive/MyDrive/datascience/dataset/trainingData/Z/0.jpg  \n",
            "  inflating: /content/drive/MyDrive/datascience/dataset/trainingData/Z/1.jpg  \n",
            "  inflating: /content/drive/MyDrive/datascience/dataset/trainingData/Z/10.jpg  \n",
            "  inflating: /content/drive/MyDrive/datascience/dataset/trainingData/Z/100.jpg  \n",
            "  inflating: /content/drive/MyDrive/datascience/dataset/trainingData/Z/101.jpg  \n",
            "  inflating: /content/drive/MyDrive/datascience/dataset/trainingData/Z/102.jpg  \n",
            "  inflating: /content/drive/MyDrive/datascience/dataset/trainingData/Z/103.jpg  \n",
            "  inflating: /content/drive/MyDrive/datascience/dataset/trainingData/Z/104.jpg  \n",
            "  inflating: /content/drive/MyDrive/datascience/dataset/trainingData/Z/105.jpg  \n",
            "  inflating: /content/drive/MyDrive/datascience/dataset/trainingData/Z/106.jpg  \n",
            "  inflating: /content/drive/MyDrive/datascience/dataset/trainingData/Z/107.jpg  \n",
            "  inflating: /content/drive/MyDrive/datascience/dataset/trainingData/Z/110.jpg  \n",
            "  inflating: /content/drive/MyDrive/datascience/dataset/trainingData/Z/111.jpg  \n",
            "  inflating: /content/drive/MyDrive/datascience/dataset/trainingData/Z/112.jpg  \n",
            "  inflating: /content/drive/MyDrive/datascience/dataset/trainingData/Z/113.jpg  \n",
            "  inflating: /content/drive/MyDrive/datascience/dataset/trainingData/Z/114.jpg  \n",
            "  inflating: /content/drive/MyDrive/datascience/dataset/trainingData/Z/115.jpg  \n",
            "  inflating: /content/drive/MyDrive/datascience/dataset/trainingData/Z/116.jpg  \n",
            "  inflating: /content/drive/MyDrive/datascience/dataset/trainingData/Z/119.jpg  \n",
            "  inflating: /content/drive/MyDrive/datascience/dataset/trainingData/Z/12.jpg  \n",
            "  inflating: /content/drive/MyDrive/datascience/dataset/trainingData/Z/120.jpg  \n",
            "  inflating: /content/drive/MyDrive/datascience/dataset/trainingData/Z/122.jpg  \n",
            "  inflating: /content/drive/MyDrive/datascience/dataset/trainingData/Z/123.jpg  \n",
            "  inflating: /content/drive/MyDrive/datascience/dataset/trainingData/Z/125.jpg  \n",
            "  inflating: /content/drive/MyDrive/datascience/dataset/trainingData/Z/126.jpg  \n",
            "  inflating: /content/drive/MyDrive/datascience/dataset/trainingData/Z/127.jpg  \n",
            "  inflating: /content/drive/MyDrive/datascience/dataset/trainingData/Z/129.jpg  \n",
            "  inflating: /content/drive/MyDrive/datascience/dataset/trainingData/Z/13.jpg  \n",
            "  inflating: /content/drive/MyDrive/datascience/dataset/trainingData/Z/130.jpg  \n",
            "  inflating: /content/drive/MyDrive/datascience/dataset/trainingData/Z/132.jpg  \n",
            "  inflating: /content/drive/MyDrive/datascience/dataset/trainingData/Z/136.jpg  \n",
            "  inflating: /content/drive/MyDrive/datascience/dataset/trainingData/Z/137.jpg  \n",
            "  inflating: /content/drive/MyDrive/datascience/dataset/trainingData/Z/139.jpg  \n",
            "  inflating: /content/drive/MyDrive/datascience/dataset/trainingData/Z/14.jpg  \n",
            "  inflating: /content/drive/MyDrive/datascience/dataset/trainingData/Z/140.jpg  \n",
            "  inflating: /content/drive/MyDrive/datascience/dataset/trainingData/Z/141.jpg  \n",
            "  inflating: /content/drive/MyDrive/datascience/dataset/trainingData/Z/142.jpg  \n",
            "  inflating: /content/drive/MyDrive/datascience/dataset/trainingData/Z/143.jpg  \n",
            "  inflating: /content/drive/MyDrive/datascience/dataset/trainingData/Z/144.jpg  \n",
            "  inflating: /content/drive/MyDrive/datascience/dataset/trainingData/Z/146.jpg  \n",
            "  inflating: /content/drive/MyDrive/datascience/dataset/trainingData/Z/148.jpg  \n",
            "  inflating: /content/drive/MyDrive/datascience/dataset/trainingData/Z/150.jpg  \n",
            "  inflating: /content/drive/MyDrive/datascience/dataset/trainingData/Z/151.jpg  \n",
            "  inflating: /content/drive/MyDrive/datascience/dataset/trainingData/Z/152.jpg  \n",
            "  inflating: /content/drive/MyDrive/datascience/dataset/trainingData/Z/156.jpg  \n",
            "  inflating: /content/drive/MyDrive/datascience/dataset/trainingData/Z/157.jpg  \n",
            "  inflating: /content/drive/MyDrive/datascience/dataset/trainingData/Z/16.jpg  \n",
            "  inflating: /content/drive/MyDrive/datascience/dataset/trainingData/Z/160.jpg  \n",
            "  inflating: /content/drive/MyDrive/datascience/dataset/trainingData/Z/161.jpg  \n",
            "  inflating: /content/drive/MyDrive/datascience/dataset/trainingData/Z/162.jpg  \n",
            "  inflating: /content/drive/MyDrive/datascience/dataset/trainingData/Z/163.jpg  \n",
            "  inflating: /content/drive/MyDrive/datascience/dataset/trainingData/Z/164.jpg  \n",
            "  inflating: /content/drive/MyDrive/datascience/dataset/trainingData/Z/165.jpg  \n",
            "  inflating: /content/drive/MyDrive/datascience/dataset/trainingData/Z/166.jpg  \n",
            "  inflating: /content/drive/MyDrive/datascience/dataset/trainingData/Z/167.jpg  \n",
            "  inflating: /content/drive/MyDrive/datascience/dataset/trainingData/Z/168.jpg  \n",
            "  inflating: /content/drive/MyDrive/datascience/dataset/trainingData/Z/169.jpg  \n",
            "  inflating: /content/drive/MyDrive/datascience/dataset/trainingData/Z/170.jpg  \n",
            "  inflating: /content/drive/MyDrive/datascience/dataset/trainingData/Z/171.jpg  \n",
            "  inflating: /content/drive/MyDrive/datascience/dataset/trainingData/Z/172.jpg  \n",
            "  inflating: /content/drive/MyDrive/datascience/dataset/trainingData/Z/173.jpg  \n",
            "  inflating: /content/drive/MyDrive/datascience/dataset/trainingData/Z/174.jpg  \n",
            "  inflating: /content/drive/MyDrive/datascience/dataset/trainingData/Z/175.jpg  \n",
            "  inflating: /content/drive/MyDrive/datascience/dataset/trainingData/Z/176.jpg  \n",
            "  inflating: /content/drive/MyDrive/datascience/dataset/trainingData/Z/177.jpg  \n",
            "  inflating: /content/drive/MyDrive/datascience/dataset/trainingData/Z/178.jpg  \n",
            "  inflating: /content/drive/MyDrive/datascience/dataset/trainingData/Z/179.jpg  \n",
            "  inflating: /content/drive/MyDrive/datascience/dataset/trainingData/Z/18.jpg  \n",
            "  inflating: /content/drive/MyDrive/datascience/dataset/trainingData/Z/180.jpg  \n",
            "  inflating: /content/drive/MyDrive/datascience/dataset/trainingData/Z/181.jpg  \n",
            "  inflating: /content/drive/MyDrive/datascience/dataset/trainingData/Z/183.jpg  \n",
            "  inflating: /content/drive/MyDrive/datascience/dataset/trainingData/Z/184.jpg  \n",
            "  inflating: /content/drive/MyDrive/datascience/dataset/trainingData/Z/185.jpg  \n",
            "  inflating: /content/drive/MyDrive/datascience/dataset/trainingData/Z/186.jpg  \n",
            "  inflating: /content/drive/MyDrive/datascience/dataset/trainingData/Z/187.jpg  \n",
            "  inflating: /content/drive/MyDrive/datascience/dataset/trainingData/Z/188.jpg  \n",
            "  inflating: /content/drive/MyDrive/datascience/dataset/trainingData/Z/189.jpg  \n",
            "  inflating: /content/drive/MyDrive/datascience/dataset/trainingData/Z/19.jpg  \n",
            "  inflating: /content/drive/MyDrive/datascience/dataset/trainingData/Z/190.jpg  \n",
            "  inflating: /content/drive/MyDrive/datascience/dataset/trainingData/Z/191.jpg  \n",
            "  inflating: /content/drive/MyDrive/datascience/dataset/trainingData/Z/192.jpg  \n",
            "  inflating: /content/drive/MyDrive/datascience/dataset/trainingData/Z/195.jpg  \n",
            "  inflating: /content/drive/MyDrive/datascience/dataset/trainingData/Z/196.jpg  \n",
            "  inflating: /content/drive/MyDrive/datascience/dataset/trainingData/Z/2.jpg  \n",
            "  inflating: /content/drive/MyDrive/datascience/dataset/trainingData/Z/20.jpg  \n",
            "  inflating: /content/drive/MyDrive/datascience/dataset/trainingData/Z/200.jpg  \n",
            "  inflating: /content/drive/MyDrive/datascience/dataset/trainingData/Z/201.jpg  \n",
            "  inflating: /content/drive/MyDrive/datascience/dataset/trainingData/Z/202.jpg  \n",
            "  inflating: /content/drive/MyDrive/datascience/dataset/trainingData/Z/206.jpg  \n",
            "  inflating: /content/drive/MyDrive/datascience/dataset/trainingData/Z/207.jpg  \n",
            "  inflating: /content/drive/MyDrive/datascience/dataset/trainingData/Z/208.jpg  \n",
            "  inflating: /content/drive/MyDrive/datascience/dataset/trainingData/Z/21.jpg  \n",
            "  inflating: /content/drive/MyDrive/datascience/dataset/trainingData/Z/211.jpg  \n",
            "  inflating: /content/drive/MyDrive/datascience/dataset/trainingData/Z/213.jpg  \n",
            "  inflating: /content/drive/MyDrive/datascience/dataset/trainingData/Z/214.jpg  \n",
            "  inflating: /content/drive/MyDrive/datascience/dataset/trainingData/Z/215.jpg  \n",
            "  inflating: /content/drive/MyDrive/datascience/dataset/trainingData/Z/216.jpg  \n",
            "  inflating: /content/drive/MyDrive/datascience/dataset/trainingData/Z/217.jpg  \n",
            "  inflating: /content/drive/MyDrive/datascience/dataset/trainingData/Z/219.jpg  \n",
            "  inflating: /content/drive/MyDrive/datascience/dataset/trainingData/Z/220.jpg  \n",
            "  inflating: /content/drive/MyDrive/datascience/dataset/trainingData/Z/221.jpg  \n",
            "  inflating: /content/drive/MyDrive/datascience/dataset/trainingData/Z/222.jpg  \n",
            "  inflating: /content/drive/MyDrive/datascience/dataset/trainingData/Z/223.jpg  \n",
            "  inflating: /content/drive/MyDrive/datascience/dataset/trainingData/Z/224.jpg  \n",
            "  inflating: /content/drive/MyDrive/datascience/dataset/trainingData/Z/225.jpg  \n",
            "  inflating: /content/drive/MyDrive/datascience/dataset/trainingData/Z/226.jpg  \n",
            "  inflating: /content/drive/MyDrive/datascience/dataset/trainingData/Z/227.jpg  \n",
            "  inflating: /content/drive/MyDrive/datascience/dataset/trainingData/Z/228.jpg  \n",
            "  inflating: /content/drive/MyDrive/datascience/dataset/trainingData/Z/229.jpg  \n",
            "  inflating: /content/drive/MyDrive/datascience/dataset/trainingData/Z/230.jpg  \n",
            "  inflating: /content/drive/MyDrive/datascience/dataset/trainingData/Z/232.jpg  \n",
            "  inflating: /content/drive/MyDrive/datascience/dataset/trainingData/Z/234.jpg  \n",
            "  inflating: /content/drive/MyDrive/datascience/dataset/trainingData/Z/235.jpg  \n",
            "  inflating: /content/drive/MyDrive/datascience/dataset/trainingData/Z/237.jpg  \n",
            "  inflating: /content/drive/MyDrive/datascience/dataset/trainingData/Z/238.jpg  \n",
            "  inflating: /content/drive/MyDrive/datascience/dataset/trainingData/Z/239.jpg  \n",
            "  inflating: /content/drive/MyDrive/datascience/dataset/trainingData/Z/24.jpg  \n",
            "  inflating: /content/drive/MyDrive/datascience/dataset/trainingData/Z/240.jpg  \n",
            "  inflating: /content/drive/MyDrive/datascience/dataset/trainingData/Z/241.jpg  \n",
            "  inflating: /content/drive/MyDrive/datascience/dataset/trainingData/Z/242.jpg  \n",
            "  inflating: /content/drive/MyDrive/datascience/dataset/trainingData/Z/243.jpg  \n",
            "  inflating: /content/drive/MyDrive/datascience/dataset/trainingData/Z/245.jpg  \n",
            "  inflating: /content/drive/MyDrive/datascience/dataset/trainingData/Z/246.jpg  \n",
            "  inflating: /content/drive/MyDrive/datascience/dataset/trainingData/Z/247.jpg  \n",
            "  inflating: /content/drive/MyDrive/datascience/dataset/trainingData/Z/248.jpg  \n",
            "  inflating: /content/drive/MyDrive/datascience/dataset/trainingData/Z/25.jpg  \n",
            "  inflating: /content/drive/MyDrive/datascience/dataset/trainingData/Z/250.jpg  \n",
            "  inflating: /content/drive/MyDrive/datascience/dataset/trainingData/Z/251.jpg  \n",
            "  inflating: /content/drive/MyDrive/datascience/dataset/trainingData/Z/252.jpg  \n",
            "  inflating: /content/drive/MyDrive/datascience/dataset/trainingData/Z/253.jpg  \n",
            "  inflating: /content/drive/MyDrive/datascience/dataset/trainingData/Z/255.jpg  \n",
            "  inflating: /content/drive/MyDrive/datascience/dataset/trainingData/Z/257.jpg  \n",
            "  inflating: /content/drive/MyDrive/datascience/dataset/trainingData/Z/258.jpg  \n",
            "  inflating: /content/drive/MyDrive/datascience/dataset/trainingData/Z/26.jpg  \n",
            "  inflating: /content/drive/MyDrive/datascience/dataset/trainingData/Z/261.jpg  \n",
            "  inflating: /content/drive/MyDrive/datascience/dataset/trainingData/Z/262.jpg  \n",
            "  inflating: /content/drive/MyDrive/datascience/dataset/trainingData/Z/263.jpg  \n",
            "  inflating: /content/drive/MyDrive/datascience/dataset/trainingData/Z/264.jpg  \n",
            "  inflating: /content/drive/MyDrive/datascience/dataset/trainingData/Z/265.jpg  \n",
            "  inflating: /content/drive/MyDrive/datascience/dataset/trainingData/Z/268.jpg  \n",
            "  inflating: /content/drive/MyDrive/datascience/dataset/trainingData/Z/270.jpg  \n",
            "  inflating: /content/drive/MyDrive/datascience/dataset/trainingData/Z/271.jpg  \n",
            "  inflating: /content/drive/MyDrive/datascience/dataset/trainingData/Z/272.jpg  \n",
            "  inflating: /content/drive/MyDrive/datascience/dataset/trainingData/Z/273.jpg  \n",
            "  inflating: /content/drive/MyDrive/datascience/dataset/trainingData/Z/276.jpg  \n",
            "  inflating: /content/drive/MyDrive/datascience/dataset/trainingData/Z/277.jpg  \n",
            "  inflating: /content/drive/MyDrive/datascience/dataset/trainingData/Z/278.jpg  \n",
            "  inflating: /content/drive/MyDrive/datascience/dataset/trainingData/Z/279.jpg  \n",
            "  inflating: /content/drive/MyDrive/datascience/dataset/trainingData/Z/28.jpg  \n",
            "  inflating: /content/drive/MyDrive/datascience/dataset/trainingData/Z/280.jpg  \n",
            "  inflating: /content/drive/MyDrive/datascience/dataset/trainingData/Z/281.jpg  \n",
            "  inflating: /content/drive/MyDrive/datascience/dataset/trainingData/Z/282.jpg  \n",
            "  inflating: /content/drive/MyDrive/datascience/dataset/trainingData/Z/283.jpg  \n",
            "  inflating: /content/drive/MyDrive/datascience/dataset/trainingData/Z/284.jpg  \n",
            "  inflating: /content/drive/MyDrive/datascience/dataset/trainingData/Z/286.jpg  \n",
            "  inflating: /content/drive/MyDrive/datascience/dataset/trainingData/Z/287.jpg  \n",
            "  inflating: /content/drive/MyDrive/datascience/dataset/trainingData/Z/288.jpg  \n",
            "  inflating: /content/drive/MyDrive/datascience/dataset/trainingData/Z/289.jpg  \n",
            "  inflating: /content/drive/MyDrive/datascience/dataset/trainingData/Z/290.jpg  \n",
            "  inflating: /content/drive/MyDrive/datascience/dataset/trainingData/Z/291.jpg  \n",
            "  inflating: /content/drive/MyDrive/datascience/dataset/trainingData/Z/293.jpg  \n",
            "  inflating: /content/drive/MyDrive/datascience/dataset/trainingData/Z/294.jpg  \n",
            "  inflating: /content/drive/MyDrive/datascience/dataset/trainingData/Z/296.jpg  \n",
            "  inflating: /content/drive/MyDrive/datascience/dataset/trainingData/Z/297.jpg  \n",
            "  inflating: /content/drive/MyDrive/datascience/dataset/trainingData/Z/299.jpg  \n",
            "  inflating: /content/drive/MyDrive/datascience/dataset/trainingData/Z/30.jpg  \n",
            "  inflating: /content/drive/MyDrive/datascience/dataset/trainingData/Z/300.jpg  \n",
            "  inflating: /content/drive/MyDrive/datascience/dataset/trainingData/Z/302.jpg  \n",
            "  inflating: /content/drive/MyDrive/datascience/dataset/trainingData/Z/303.jpg  \n",
            "  inflating: /content/drive/MyDrive/datascience/dataset/trainingData/Z/304.jpg  \n",
            "  inflating: /content/drive/MyDrive/datascience/dataset/trainingData/Z/305.jpg  \n",
            "  inflating: /content/drive/MyDrive/datascience/dataset/trainingData/Z/306.jpg  \n",
            "  inflating: /content/drive/MyDrive/datascience/dataset/trainingData/Z/308.jpg  \n",
            "  inflating: /content/drive/MyDrive/datascience/dataset/trainingData/Z/309.jpg  \n",
            "  inflating: /content/drive/MyDrive/datascience/dataset/trainingData/Z/310.jpg  \n",
            "  inflating: /content/drive/MyDrive/datascience/dataset/trainingData/Z/311.jpg  \n",
            "  inflating: /content/drive/MyDrive/datascience/dataset/trainingData/Z/313.jpg  \n",
            "  inflating: /content/drive/MyDrive/datascience/dataset/trainingData/Z/314.jpg  \n",
            "  inflating: /content/drive/MyDrive/datascience/dataset/trainingData/Z/315.jpg  \n",
            "  inflating: /content/drive/MyDrive/datascience/dataset/trainingData/Z/316.jpg  \n",
            "  inflating: /content/drive/MyDrive/datascience/dataset/trainingData/Z/317.jpg  \n",
            "  inflating: /content/drive/MyDrive/datascience/dataset/trainingData/Z/318.jpg  \n",
            "  inflating: /content/drive/MyDrive/datascience/dataset/trainingData/Z/32.jpg  \n",
            "  inflating: /content/drive/MyDrive/datascience/dataset/trainingData/Z/320.jpg  \n",
            "  inflating: /content/drive/MyDrive/datascience/dataset/trainingData/Z/321.jpg  \n",
            "  inflating: /content/drive/MyDrive/datascience/dataset/trainingData/Z/322.jpg  \n",
            "  inflating: /content/drive/MyDrive/datascience/dataset/trainingData/Z/323.jpg  \n",
            "  inflating: /content/drive/MyDrive/datascience/dataset/trainingData/Z/324.jpg  \n",
            "  inflating: /content/drive/MyDrive/datascience/dataset/trainingData/Z/325.jpg  \n",
            "  inflating: /content/drive/MyDrive/datascience/dataset/trainingData/Z/327.jpg  \n",
            "  inflating: /content/drive/MyDrive/datascience/dataset/trainingData/Z/328.jpg  \n",
            "  inflating: /content/drive/MyDrive/datascience/dataset/trainingData/Z/329.jpg  \n",
            "  inflating: /content/drive/MyDrive/datascience/dataset/trainingData/Z/33.jpg  \n",
            "  inflating: /content/drive/MyDrive/datascience/dataset/trainingData/Z/330.jpg  \n",
            "  inflating: /content/drive/MyDrive/datascience/dataset/trainingData/Z/331.jpg  \n",
            "  inflating: /content/drive/MyDrive/datascience/dataset/trainingData/Z/332.jpg  \n",
            "  inflating: /content/drive/MyDrive/datascience/dataset/trainingData/Z/333.jpg  \n",
            "  inflating: /content/drive/MyDrive/datascience/dataset/trainingData/Z/335.jpg  \n",
            "  inflating: /content/drive/MyDrive/datascience/dataset/trainingData/Z/338.jpg  \n",
            "  inflating: /content/drive/MyDrive/datascience/dataset/trainingData/Z/339.jpg  \n",
            "  inflating: /content/drive/MyDrive/datascience/dataset/trainingData/Z/34.jpg  \n",
            "  inflating: /content/drive/MyDrive/datascience/dataset/trainingData/Z/340.jpg  \n",
            "  inflating: /content/drive/MyDrive/datascience/dataset/trainingData/Z/342.jpg  \n",
            "  inflating: /content/drive/MyDrive/datascience/dataset/trainingData/Z/343.jpg  \n",
            "  inflating: /content/drive/MyDrive/datascience/dataset/trainingData/Z/344.jpg  \n",
            "  inflating: /content/drive/MyDrive/datascience/dataset/trainingData/Z/346.jpg  \n",
            "  inflating: /content/drive/MyDrive/datascience/dataset/trainingData/Z/347.jpg  \n",
            "  inflating: /content/drive/MyDrive/datascience/dataset/trainingData/Z/348.jpg  \n",
            "  inflating: /content/drive/MyDrive/datascience/dataset/trainingData/Z/35.jpg  \n",
            "  inflating: /content/drive/MyDrive/datascience/dataset/trainingData/Z/350.jpg  \n",
            "  inflating: /content/drive/MyDrive/datascience/dataset/trainingData/Z/351.jpg  \n",
            "  inflating: /content/drive/MyDrive/datascience/dataset/trainingData/Z/352.jpg  \n",
            "  inflating: /content/drive/MyDrive/datascience/dataset/trainingData/Z/353.jpg  \n",
            "  inflating: /content/drive/MyDrive/datascience/dataset/trainingData/Z/354.jpg  \n",
            "  inflating: /content/drive/MyDrive/datascience/dataset/trainingData/Z/355.jpg  \n",
            "  inflating: /content/drive/MyDrive/datascience/dataset/trainingData/Z/356.jpg  \n",
            "  inflating: /content/drive/MyDrive/datascience/dataset/trainingData/Z/357.jpg  \n",
            "  inflating: /content/drive/MyDrive/datascience/dataset/trainingData/Z/359.jpg  \n",
            "  inflating: /content/drive/MyDrive/datascience/dataset/trainingData/Z/36.jpg  \n",
            "  inflating: /content/drive/MyDrive/datascience/dataset/trainingData/Z/360.jpg  \n",
            "  inflating: /content/drive/MyDrive/datascience/dataset/trainingData/Z/361.jpg  \n",
            "  inflating: /content/drive/MyDrive/datascience/dataset/trainingData/Z/362.jpg  \n",
            "  inflating: /content/drive/MyDrive/datascience/dataset/trainingData/Z/364.jpg  \n",
            "  inflating: /content/drive/MyDrive/datascience/dataset/trainingData/Z/365.jpg  \n",
            "  inflating: /content/drive/MyDrive/datascience/dataset/trainingData/Z/366.jpg  \n",
            "  inflating: /content/drive/MyDrive/datascience/dataset/trainingData/Z/367.jpg  \n",
            "  inflating: /content/drive/MyDrive/datascience/dataset/trainingData/Z/368.jpg  \n",
            "  inflating: /content/drive/MyDrive/datascience/dataset/trainingData/Z/369.jpg  \n",
            "  inflating: /content/drive/MyDrive/datascience/dataset/trainingData/Z/37.jpg  \n",
            "  inflating: /content/drive/MyDrive/datascience/dataset/trainingData/Z/370.jpg  \n",
            "  inflating: /content/drive/MyDrive/datascience/dataset/trainingData/Z/372.jpg  \n",
            "  inflating: /content/drive/MyDrive/datascience/dataset/trainingData/Z/373.jpg  \n",
            "  inflating: /content/drive/MyDrive/datascience/dataset/trainingData/Z/375.jpg  \n",
            "  inflating: /content/drive/MyDrive/datascience/dataset/trainingData/Z/376.jpg  \n",
            "  inflating: /content/drive/MyDrive/datascience/dataset/trainingData/Z/377.jpg  \n",
            "  inflating: /content/drive/MyDrive/datascience/dataset/trainingData/Z/378.jpg  \n",
            "  inflating: /content/drive/MyDrive/datascience/dataset/trainingData/Z/379.jpg  \n",
            "  inflating: /content/drive/MyDrive/datascience/dataset/trainingData/Z/38.jpg  \n",
            "  inflating: /content/drive/MyDrive/datascience/dataset/trainingData/Z/380.jpg  \n",
            "  inflating: /content/drive/MyDrive/datascience/dataset/trainingData/Z/381.jpg  \n",
            "  inflating: /content/drive/MyDrive/datascience/dataset/trainingData/Z/383.jpg  \n",
            "  inflating: /content/drive/MyDrive/datascience/dataset/trainingData/Z/384.jpg  \n",
            "  inflating: /content/drive/MyDrive/datascience/dataset/trainingData/Z/385.jpg  \n",
            "  inflating: /content/drive/MyDrive/datascience/dataset/trainingData/Z/386.jpg  \n",
            "  inflating: /content/drive/MyDrive/datascience/dataset/trainingData/Z/387.jpg  \n",
            "  inflating: /content/drive/MyDrive/datascience/dataset/trainingData/Z/388.jpg  \n",
            "  inflating: /content/drive/MyDrive/datascience/dataset/trainingData/Z/39.jpg  \n",
            "  inflating: /content/drive/MyDrive/datascience/dataset/trainingData/Z/390.jpg  \n",
            "  inflating: /content/drive/MyDrive/datascience/dataset/trainingData/Z/392.jpg  \n",
            "  inflating: /content/drive/MyDrive/datascience/dataset/trainingData/Z/394.jpg  \n",
            "  inflating: /content/drive/MyDrive/datascience/dataset/trainingData/Z/395.jpg  \n",
            "  inflating: /content/drive/MyDrive/datascience/dataset/trainingData/Z/396.jpg  \n",
            "  inflating: /content/drive/MyDrive/datascience/dataset/trainingData/Z/397.jpg  \n",
            "  inflating: /content/drive/MyDrive/datascience/dataset/trainingData/Z/398.jpg  \n",
            "  inflating: /content/drive/MyDrive/datascience/dataset/trainingData/Z/399.jpg  \n",
            "  inflating: /content/drive/MyDrive/datascience/dataset/trainingData/Z/4.jpg  \n",
            "  inflating: /content/drive/MyDrive/datascience/dataset/trainingData/Z/40.jpg  \n",
            "  inflating: /content/drive/MyDrive/datascience/dataset/trainingData/Z/400.jpg  \n",
            "  inflating: /content/drive/MyDrive/datascience/dataset/trainingData/Z/401.jpg  \n",
            "  inflating: /content/drive/MyDrive/datascience/dataset/trainingData/Z/402.jpg  \n",
            "  inflating: /content/drive/MyDrive/datascience/dataset/trainingData/Z/404.jpg  \n",
            "  inflating: /content/drive/MyDrive/datascience/dataset/trainingData/Z/405.jpg  \n",
            "  inflating: /content/drive/MyDrive/datascience/dataset/trainingData/Z/406.jpg  \n",
            "  inflating: /content/drive/MyDrive/datascience/dataset/trainingData/Z/407.jpg  \n",
            "  inflating: /content/drive/MyDrive/datascience/dataset/trainingData/Z/408.jpg  \n",
            "  inflating: /content/drive/MyDrive/datascience/dataset/trainingData/Z/409.jpg  \n",
            "  inflating: /content/drive/MyDrive/datascience/dataset/trainingData/Z/41.jpg  \n",
            "  inflating: /content/drive/MyDrive/datascience/dataset/trainingData/Z/413.jpg  \n",
            "  inflating: /content/drive/MyDrive/datascience/dataset/trainingData/Z/414.jpg  \n",
            "  inflating: /content/drive/MyDrive/datascience/dataset/trainingData/Z/415.jpg  \n",
            "  inflating: /content/drive/MyDrive/datascience/dataset/trainingData/Z/419.jpg  \n",
            "  inflating: /content/drive/MyDrive/datascience/dataset/trainingData/Z/42.jpg  \n",
            "  inflating: /content/drive/MyDrive/datascience/dataset/trainingData/Z/420.jpg  \n",
            "  inflating: /content/drive/MyDrive/datascience/dataset/trainingData/Z/421.jpg  \n",
            "  inflating: /content/drive/MyDrive/datascience/dataset/trainingData/Z/422.jpg  \n",
            "  inflating: /content/drive/MyDrive/datascience/dataset/trainingData/Z/423.jpg  \n",
            "  inflating: /content/drive/MyDrive/datascience/dataset/trainingData/Z/425.jpg  \n",
            "  inflating: /content/drive/MyDrive/datascience/dataset/trainingData/Z/427.jpg  \n",
            "  inflating: /content/drive/MyDrive/datascience/dataset/trainingData/Z/428.jpg  \n",
            "  inflating: /content/drive/MyDrive/datascience/dataset/trainingData/Z/429.jpg  \n",
            "  inflating: /content/drive/MyDrive/datascience/dataset/trainingData/Z/430.jpg  \n",
            "  inflating: /content/drive/MyDrive/datascience/dataset/trainingData/Z/432.jpg  \n",
            "  inflating: /content/drive/MyDrive/datascience/dataset/trainingData/Z/433.jpg  \n",
            "  inflating: /content/drive/MyDrive/datascience/dataset/trainingData/Z/435.jpg  \n",
            "  inflating: /content/drive/MyDrive/datascience/dataset/trainingData/Z/436.jpg  \n",
            "  inflating: /content/drive/MyDrive/datascience/dataset/trainingData/Z/437.jpg  \n",
            "  inflating: /content/drive/MyDrive/datascience/dataset/trainingData/Z/439.jpg  \n",
            "  inflating: /content/drive/MyDrive/datascience/dataset/trainingData/Z/440.jpg  \n",
            "  inflating: /content/drive/MyDrive/datascience/dataset/trainingData/Z/441.jpg  \n",
            "  inflating: /content/drive/MyDrive/datascience/dataset/trainingData/Z/442.jpg  \n",
            "  inflating: /content/drive/MyDrive/datascience/dataset/trainingData/Z/443.jpg  \n",
            "  inflating: /content/drive/MyDrive/datascience/dataset/trainingData/Z/444.jpg  \n",
            "  inflating: /content/drive/MyDrive/datascience/dataset/trainingData/Z/445.jpg  \n",
            "  inflating: /content/drive/MyDrive/datascience/dataset/trainingData/Z/446.jpg  \n",
            "  inflating: /content/drive/MyDrive/datascience/dataset/trainingData/Z/447.jpg  \n",
            "  inflating: /content/drive/MyDrive/datascience/dataset/trainingData/Z/448.jpg  \n",
            "  inflating: /content/drive/MyDrive/datascience/dataset/trainingData/Z/449.jpg  \n",
            "  inflating: /content/drive/MyDrive/datascience/dataset/trainingData/Z/45.jpg  \n",
            "  inflating: /content/drive/MyDrive/datascience/dataset/trainingData/Z/451.jpg  \n",
            "  inflating: /content/drive/MyDrive/datascience/dataset/trainingData/Z/452.jpg  \n",
            "  inflating: /content/drive/MyDrive/datascience/dataset/trainingData/Z/453.jpg  \n",
            "  inflating: /content/drive/MyDrive/datascience/dataset/trainingData/Z/454.jpg  \n",
            "  inflating: /content/drive/MyDrive/datascience/dataset/trainingData/Z/456.jpg  \n",
            "  inflating: /content/drive/MyDrive/datascience/dataset/trainingData/Z/458.jpg  \n",
            "  inflating: /content/drive/MyDrive/datascience/dataset/trainingData/Z/46.jpg  \n",
            "  inflating: /content/drive/MyDrive/datascience/dataset/trainingData/Z/460.jpg  \n",
            "  inflating: /content/drive/MyDrive/datascience/dataset/trainingData/Z/461.jpg  \n",
            "  inflating: /content/drive/MyDrive/datascience/dataset/trainingData/Z/462.jpg  \n",
            "  inflating: /content/drive/MyDrive/datascience/dataset/trainingData/Z/463.jpg  \n",
            "  inflating: /content/drive/MyDrive/datascience/dataset/trainingData/Z/464.jpg  \n",
            "  inflating: /content/drive/MyDrive/datascience/dataset/trainingData/Z/465.jpg  \n",
            "  inflating: /content/drive/MyDrive/datascience/dataset/trainingData/Z/466.jpg  \n",
            "  inflating: /content/drive/MyDrive/datascience/dataset/trainingData/Z/468.jpg  \n",
            "  inflating: /content/drive/MyDrive/datascience/dataset/trainingData/Z/47.jpg  \n",
            "  inflating: /content/drive/MyDrive/datascience/dataset/trainingData/Z/470.jpg  \n",
            "  inflating: /content/drive/MyDrive/datascience/dataset/trainingData/Z/471.jpg  \n",
            "  inflating: /content/drive/MyDrive/datascience/dataset/trainingData/Z/472.jpg  \n",
            "  inflating: /content/drive/MyDrive/datascience/dataset/trainingData/Z/473.jpg  \n",
            "  inflating: /content/drive/MyDrive/datascience/dataset/trainingData/Z/474.jpg  \n",
            "  inflating: /content/drive/MyDrive/datascience/dataset/trainingData/Z/475.jpg  \n",
            "  inflating: /content/drive/MyDrive/datascience/dataset/trainingData/Z/476.jpg  \n",
            "  inflating: /content/drive/MyDrive/datascience/dataset/trainingData/Z/477.jpg  \n",
            "  inflating: /content/drive/MyDrive/datascience/dataset/trainingData/Z/479.jpg  \n",
            "  inflating: /content/drive/MyDrive/datascience/dataset/trainingData/Z/481.jpg  \n",
            "  inflating: /content/drive/MyDrive/datascience/dataset/trainingData/Z/482.jpg  \n",
            "  inflating: /content/drive/MyDrive/datascience/dataset/trainingData/Z/483.jpg  \n",
            "  inflating: /content/drive/MyDrive/datascience/dataset/trainingData/Z/484.jpg  \n",
            "  inflating: /content/drive/MyDrive/datascience/dataset/trainingData/Z/485.jpg  \n",
            "  inflating: /content/drive/MyDrive/datascience/dataset/trainingData/Z/486.jpg  \n",
            "  inflating: /content/drive/MyDrive/datascience/dataset/trainingData/Z/487.jpg  \n",
            "  inflating: /content/drive/MyDrive/datascience/dataset/trainingData/Z/488.jpg  \n",
            "  inflating: /content/drive/MyDrive/datascience/dataset/trainingData/Z/489.jpg  \n",
            "  inflating: /content/drive/MyDrive/datascience/dataset/trainingData/Z/49.jpg  \n",
            "  inflating: /content/drive/MyDrive/datascience/dataset/trainingData/Z/490.jpg  \n",
            "  inflating: /content/drive/MyDrive/datascience/dataset/trainingData/Z/492.jpg  \n",
            "  inflating: /content/drive/MyDrive/datascience/dataset/trainingData/Z/493.jpg  \n",
            "  inflating: /content/drive/MyDrive/datascience/dataset/trainingData/Z/494.jpg  \n",
            "  inflating: /content/drive/MyDrive/datascience/dataset/trainingData/Z/496.jpg  \n",
            "  inflating: /content/drive/MyDrive/datascience/dataset/trainingData/Z/497.jpg  \n",
            "  inflating: /content/drive/MyDrive/datascience/dataset/trainingData/Z/498.jpg  \n",
            "  inflating: /content/drive/MyDrive/datascience/dataset/trainingData/Z/499.jpg  \n",
            "  inflating: /content/drive/MyDrive/datascience/dataset/trainingData/Z/5.jpg  \n",
            "  inflating: /content/drive/MyDrive/datascience/dataset/trainingData/Z/50.jpg  \n",
            "  inflating: /content/drive/MyDrive/datascience/dataset/trainingData/Z/500.jpg  \n",
            "  inflating: /content/drive/MyDrive/datascience/dataset/trainingData/Z/501.jpg  \n",
            "  inflating: /content/drive/MyDrive/datascience/dataset/trainingData/Z/502.jpg  \n",
            "  inflating: /content/drive/MyDrive/datascience/dataset/trainingData/Z/504.jpg  \n",
            "  inflating: /content/drive/MyDrive/datascience/dataset/trainingData/Z/505.jpg  \n",
            "  inflating: /content/drive/MyDrive/datascience/dataset/trainingData/Z/506.jpg  \n",
            "  inflating: /content/drive/MyDrive/datascience/dataset/trainingData/Z/507.jpg  \n",
            "  inflating: /content/drive/MyDrive/datascience/dataset/trainingData/Z/508.jpg  \n",
            "  inflating: /content/drive/MyDrive/datascience/dataset/trainingData/Z/509.jpg  \n",
            "  inflating: /content/drive/MyDrive/datascience/dataset/trainingData/Z/51.jpg  \n",
            "  inflating: /content/drive/MyDrive/datascience/dataset/trainingData/Z/511.jpg  \n",
            "  inflating: /content/drive/MyDrive/datascience/dataset/trainingData/Z/512.jpg  \n",
            "  inflating: /content/drive/MyDrive/datascience/dataset/trainingData/Z/513.jpg  \n",
            "  inflating: /content/drive/MyDrive/datascience/dataset/trainingData/Z/514.jpg  \n",
            "  inflating: /content/drive/MyDrive/datascience/dataset/trainingData/Z/515.jpg  \n",
            "  inflating: /content/drive/MyDrive/datascience/dataset/trainingData/Z/516.jpg  \n",
            "  inflating: /content/drive/MyDrive/datascience/dataset/trainingData/Z/517.jpg  \n",
            "  inflating: /content/drive/MyDrive/datascience/dataset/trainingData/Z/518.jpg  \n",
            "  inflating: /content/drive/MyDrive/datascience/dataset/trainingData/Z/519.jpg  \n",
            "  inflating: /content/drive/MyDrive/datascience/dataset/trainingData/Z/520.jpg  \n",
            "  inflating: /content/drive/MyDrive/datascience/dataset/trainingData/Z/522.jpg  \n",
            "  inflating: /content/drive/MyDrive/datascience/dataset/trainingData/Z/524.jpg  \n",
            "  inflating: /content/drive/MyDrive/datascience/dataset/trainingData/Z/525.jpg  \n",
            "  inflating: /content/drive/MyDrive/datascience/dataset/trainingData/Z/528.jpg  \n",
            "  inflating: /content/drive/MyDrive/datascience/dataset/trainingData/Z/529.jpg  \n",
            "  inflating: /content/drive/MyDrive/datascience/dataset/trainingData/Z/53.jpg  \n",
            "  inflating: /content/drive/MyDrive/datascience/dataset/trainingData/Z/532.jpg  \n",
            "  inflating: /content/drive/MyDrive/datascience/dataset/trainingData/Z/534.jpg  \n",
            "  inflating: /content/drive/MyDrive/datascience/dataset/trainingData/Z/536.jpg  \n",
            "  inflating: /content/drive/MyDrive/datascience/dataset/trainingData/Z/537.jpg  \n",
            "  inflating: /content/drive/MyDrive/datascience/dataset/trainingData/Z/538.jpg  \n",
            "  inflating: /content/drive/MyDrive/datascience/dataset/trainingData/Z/54.jpg  \n",
            "  inflating: /content/drive/MyDrive/datascience/dataset/trainingData/Z/540.jpg  \n",
            "  inflating: /content/drive/MyDrive/datascience/dataset/trainingData/Z/541.jpg  \n",
            "  inflating: /content/drive/MyDrive/datascience/dataset/trainingData/Z/542.jpg  \n",
            "  inflating: /content/drive/MyDrive/datascience/dataset/trainingData/Z/543.jpg  \n",
            "  inflating: /content/drive/MyDrive/datascience/dataset/trainingData/Z/545.jpg  \n",
            "  inflating: /content/drive/MyDrive/datascience/dataset/trainingData/Z/546.jpg  \n",
            "  inflating: /content/drive/MyDrive/datascience/dataset/trainingData/Z/547.jpg  \n",
            "  inflating: /content/drive/MyDrive/datascience/dataset/trainingData/Z/548.jpg  \n",
            "  inflating: /content/drive/MyDrive/datascience/dataset/trainingData/Z/549.jpg  \n",
            "  inflating: /content/drive/MyDrive/datascience/dataset/trainingData/Z/55.jpg  \n",
            "  inflating: /content/drive/MyDrive/datascience/dataset/trainingData/Z/552.jpg  \n",
            "  inflating: /content/drive/MyDrive/datascience/dataset/trainingData/Z/554.jpg  \n",
            "  inflating: /content/drive/MyDrive/datascience/dataset/trainingData/Z/557.jpg  \n",
            "  inflating: /content/drive/MyDrive/datascience/dataset/trainingData/Z/56.jpg  \n",
            "  inflating: /content/drive/MyDrive/datascience/dataset/trainingData/Z/561.jpg  \n",
            "  inflating: /content/drive/MyDrive/datascience/dataset/trainingData/Z/562.jpg  \n",
            "  inflating: /content/drive/MyDrive/datascience/dataset/trainingData/Z/564.jpg  \n",
            "  inflating: /content/drive/MyDrive/datascience/dataset/trainingData/Z/565.jpg  \n",
            "  inflating: /content/drive/MyDrive/datascience/dataset/trainingData/Z/566.jpg  \n",
            "  inflating: /content/drive/MyDrive/datascience/dataset/trainingData/Z/567.jpg  \n",
            "  inflating: /content/drive/MyDrive/datascience/dataset/trainingData/Z/568.jpg  \n",
            "  inflating: /content/drive/MyDrive/datascience/dataset/trainingData/Z/57.jpg  \n",
            "  inflating: /content/drive/MyDrive/datascience/dataset/trainingData/Z/570.jpg  \n",
            "  inflating: /content/drive/MyDrive/datascience/dataset/trainingData/Z/572.jpg  \n",
            "  inflating: /content/drive/MyDrive/datascience/dataset/trainingData/Z/574.jpg  \n",
            "  inflating: /content/drive/MyDrive/datascience/dataset/trainingData/Z/575.jpg  \n",
            "  inflating: /content/drive/MyDrive/datascience/dataset/trainingData/Z/576.jpg  \n",
            "  inflating: /content/drive/MyDrive/datascience/dataset/trainingData/Z/578.jpg  \n",
            "  inflating: /content/drive/MyDrive/datascience/dataset/trainingData/Z/582.jpg  \n",
            "  inflating: /content/drive/MyDrive/datascience/dataset/trainingData/Z/584.jpg  \n",
            "  inflating: /content/drive/MyDrive/datascience/dataset/trainingData/Z/585.jpg  \n",
            "  inflating: /content/drive/MyDrive/datascience/dataset/trainingData/Z/587.jpg  \n",
            "  inflating: /content/drive/MyDrive/datascience/dataset/trainingData/Z/588.jpg  \n",
            "  inflating: /content/drive/MyDrive/datascience/dataset/trainingData/Z/589.jpg  \n",
            "  inflating: /content/drive/MyDrive/datascience/dataset/trainingData/Z/592.jpg  \n",
            "  inflating: /content/drive/MyDrive/datascience/dataset/trainingData/Z/594.jpg  \n",
            "  inflating: /content/drive/MyDrive/datascience/dataset/trainingData/Z/596.jpg  \n",
            "  inflating: /content/drive/MyDrive/datascience/dataset/trainingData/Z/597.jpg  \n",
            "  inflating: /content/drive/MyDrive/datascience/dataset/trainingData/Z/598.jpg  \n",
            "  inflating: /content/drive/MyDrive/datascience/dataset/trainingData/Z/599.jpg  \n",
            "  inflating: /content/drive/MyDrive/datascience/dataset/trainingData/Z/6.jpg  \n",
            "  inflating: /content/drive/MyDrive/datascience/dataset/trainingData/Z/600.jpg  \n",
            "  inflating: /content/drive/MyDrive/datascience/dataset/trainingData/Z/601.jpg  \n",
            "  inflating: /content/drive/MyDrive/datascience/dataset/trainingData/Z/603.jpg  \n",
            "  inflating: /content/drive/MyDrive/datascience/dataset/trainingData/Z/604.jpg  \n",
            "  inflating: /content/drive/MyDrive/datascience/dataset/trainingData/Z/605.jpg  \n",
            "  inflating: /content/drive/MyDrive/datascience/dataset/trainingData/Z/606.jpg  \n",
            "  inflating: /content/drive/MyDrive/datascience/dataset/trainingData/Z/607.jpg  \n",
            "  inflating: /content/drive/MyDrive/datascience/dataset/trainingData/Z/608.jpg  \n",
            "  inflating: /content/drive/MyDrive/datascience/dataset/trainingData/Z/61.jpg  \n",
            "  inflating: /content/drive/MyDrive/datascience/dataset/trainingData/Z/610.jpg  \n",
            "  inflating: /content/drive/MyDrive/datascience/dataset/trainingData/Z/611.jpg  \n",
            "  inflating: /content/drive/MyDrive/datascience/dataset/trainingData/Z/612.jpg  \n",
            "  inflating: /content/drive/MyDrive/datascience/dataset/trainingData/Z/613.jpg  \n",
            "  inflating: /content/drive/MyDrive/datascience/dataset/trainingData/Z/614.jpg  \n",
            "  inflating: /content/drive/MyDrive/datascience/dataset/trainingData/Z/615.jpg  \n",
            "  inflating: /content/drive/MyDrive/datascience/dataset/trainingData/Z/616.jpg  \n",
            "  inflating: /content/drive/MyDrive/datascience/dataset/trainingData/Z/617.jpg  \n",
            "  inflating: /content/drive/MyDrive/datascience/dataset/trainingData/Z/618.jpg  \n",
            "  inflating: /content/drive/MyDrive/datascience/dataset/trainingData/Z/619.jpg  \n",
            "  inflating: /content/drive/MyDrive/datascience/dataset/trainingData/Z/62.jpg  \n",
            "  inflating: /content/drive/MyDrive/datascience/dataset/trainingData/Z/620.jpg  \n",
            "  inflating: /content/drive/MyDrive/datascience/dataset/trainingData/Z/623.jpg  \n",
            "  inflating: /content/drive/MyDrive/datascience/dataset/trainingData/Z/624.jpg  \n",
            "  inflating: /content/drive/MyDrive/datascience/dataset/trainingData/Z/63.jpg  \n",
            "  inflating: /content/drive/MyDrive/datascience/dataset/trainingData/Z/64.jpg  \n",
            "  inflating: /content/drive/MyDrive/datascience/dataset/trainingData/Z/65.jpg  \n",
            "  inflating: /content/drive/MyDrive/datascience/dataset/trainingData/Z/66.jpg  \n",
            "  inflating: /content/drive/MyDrive/datascience/dataset/trainingData/Z/67.jpg  \n",
            "  inflating: /content/drive/MyDrive/datascience/dataset/trainingData/Z/68.jpg  \n",
            "  inflating: /content/drive/MyDrive/datascience/dataset/trainingData/Z/69.jpg  \n",
            "  inflating: /content/drive/MyDrive/datascience/dataset/trainingData/Z/7.jpg  \n",
            "  inflating: /content/drive/MyDrive/datascience/dataset/trainingData/Z/70.jpg  \n",
            "  inflating: /content/drive/MyDrive/datascience/dataset/trainingData/Z/72.jpg  \n",
            "  inflating: /content/drive/MyDrive/datascience/dataset/trainingData/Z/73.jpg  \n",
            "  inflating: /content/drive/MyDrive/datascience/dataset/trainingData/Z/74.jpg  \n",
            "  inflating: /content/drive/MyDrive/datascience/dataset/trainingData/Z/75.jpg  \n",
            "  inflating: /content/drive/MyDrive/datascience/dataset/trainingData/Z/76.jpg  \n",
            "  inflating: /content/drive/MyDrive/datascience/dataset/trainingData/Z/78.jpg  \n",
            "  inflating: /content/drive/MyDrive/datascience/dataset/trainingData/Z/8.jpg  \n",
            "  inflating: /content/drive/MyDrive/datascience/dataset/trainingData/Z/80.jpg  \n",
            "  inflating: /content/drive/MyDrive/datascience/dataset/trainingData/Z/81.jpg  \n",
            "  inflating: /content/drive/MyDrive/datascience/dataset/trainingData/Z/83.jpg  \n",
            "  inflating: /content/drive/MyDrive/datascience/dataset/trainingData/Z/84.jpg  \n",
            "  inflating: /content/drive/MyDrive/datascience/dataset/trainingData/Z/86.jpg  \n",
            "  inflating: /content/drive/MyDrive/datascience/dataset/trainingData/Z/87.jpg  \n",
            "  inflating: /content/drive/MyDrive/datascience/dataset/trainingData/Z/88.jpg  \n",
            "  inflating: /content/drive/MyDrive/datascience/dataset/trainingData/Z/89.jpg  \n",
            "  inflating: /content/drive/MyDrive/datascience/dataset/trainingData/Z/9.jpg  \n",
            "  inflating: /content/drive/MyDrive/datascience/dataset/trainingData/Z/90.jpg  \n",
            "  inflating: /content/drive/MyDrive/datascience/dataset/trainingData/Z/92.jpg  \n",
            "  inflating: /content/drive/MyDrive/datascience/dataset/trainingData/Z/94.jpg  \n",
            "  inflating: /content/drive/MyDrive/datascience/dataset/trainingData/Z/95.jpg  \n",
            "  inflating: /content/drive/MyDrive/datascience/dataset/trainingData/Z/97.jpg  \n",
            "  inflating: /content/drive/MyDrive/datascience/dataset/trainingData/Z/99.jpg  \n"
          ]
        }
      ]
    },
    {
      "cell_type": "code",
      "source": [
        "!pip install keras\n",
        "!pip install tensorflow"
      ],
      "metadata": {
        "colab": {
          "base_uri": "https://localhost:8080/"
        },
        "id": "nwagBkslp3dG",
        "outputId": "e8365aeb-c416-4d4a-e521-d4aa1a61f7e5"
      },
      "execution_count": 3,
      "outputs": [
        {
          "output_type": "stream",
          "name": "stdout",
          "text": [
            "Looking in indexes: https://pypi.org/simple, https://us-python.pkg.dev/colab-wheels/public/simple/\n",
            "Requirement already satisfied: keras in /usr/local/lib/python3.8/dist-packages (2.9.0)\n",
            "Looking in indexes: https://pypi.org/simple, https://us-python.pkg.dev/colab-wheels/public/simple/\n",
            "Requirement already satisfied: tensorflow in /usr/local/lib/python3.8/dist-packages (2.9.2)\n",
            "Requirement already satisfied: grpcio<2.0,>=1.24.3 in /usr/local/lib/python3.8/dist-packages (from tensorflow) (1.51.1)\n",
            "Requirement already satisfied: h5py>=2.9.0 in /usr/local/lib/python3.8/dist-packages (from tensorflow) (3.1.0)\n",
            "Requirement already satisfied: setuptools in /usr/local/lib/python3.8/dist-packages (from tensorflow) (57.4.0)\n",
            "Requirement already satisfied: absl-py>=1.0.0 in /usr/local/lib/python3.8/dist-packages (from tensorflow) (1.3.0)\n",
            "Requirement already satisfied: keras-preprocessing>=1.1.1 in /usr/local/lib/python3.8/dist-packages (from tensorflow) (1.1.2)\n",
            "Requirement already satisfied: keras<2.10.0,>=2.9.0rc0 in /usr/local/lib/python3.8/dist-packages (from tensorflow) (2.9.0)\n",
            "Requirement already satisfied: flatbuffers<2,>=1.12 in /usr/local/lib/python3.8/dist-packages (from tensorflow) (1.12)\n",
            "Requirement already satisfied: termcolor>=1.1.0 in /usr/local/lib/python3.8/dist-packages (from tensorflow) (2.1.1)\n",
            "Requirement already satisfied: tensorboard<2.10,>=2.9 in /usr/local/lib/python3.8/dist-packages (from tensorflow) (2.9.1)\n",
            "Requirement already satisfied: packaging in /usr/local/lib/python3.8/dist-packages (from tensorflow) (21.3)\n",
            "Requirement already satisfied: gast<=0.4.0,>=0.2.1 in /usr/local/lib/python3.8/dist-packages (from tensorflow) (0.4.0)\n",
            "Requirement already satisfied: tensorflow-io-gcs-filesystem>=0.23.1 in /usr/local/lib/python3.8/dist-packages (from tensorflow) (0.29.0)\n",
            "Requirement already satisfied: wrapt>=1.11.0 in /usr/local/lib/python3.8/dist-packages (from tensorflow) (1.14.1)\n",
            "Requirement already satisfied: astunparse>=1.6.0 in /usr/local/lib/python3.8/dist-packages (from tensorflow) (1.6.3)\n",
            "Requirement already satisfied: typing-extensions>=3.6.6 in /usr/local/lib/python3.8/dist-packages (from tensorflow) (4.4.0)\n",
            "Requirement already satisfied: google-pasta>=0.1.1 in /usr/local/lib/python3.8/dist-packages (from tensorflow) (0.2.0)\n",
            "Requirement already satisfied: libclang>=13.0.0 in /usr/local/lib/python3.8/dist-packages (from tensorflow) (14.0.6)\n",
            "Requirement already satisfied: numpy>=1.20 in /usr/local/lib/python3.8/dist-packages (from tensorflow) (1.21.6)\n",
            "Requirement already satisfied: opt-einsum>=2.3.2 in /usr/local/lib/python3.8/dist-packages (from tensorflow) (3.3.0)\n",
            "Requirement already satisfied: protobuf<3.20,>=3.9.2 in /usr/local/lib/python3.8/dist-packages (from tensorflow) (3.19.6)\n",
            "Requirement already satisfied: tensorflow-estimator<2.10.0,>=2.9.0rc0 in /usr/local/lib/python3.8/dist-packages (from tensorflow) (2.9.0)\n",
            "Requirement already satisfied: six>=1.12.0 in /usr/local/lib/python3.8/dist-packages (from tensorflow) (1.15.0)\n",
            "Requirement already satisfied: wheel<1.0,>=0.23.0 in /usr/local/lib/python3.8/dist-packages (from astunparse>=1.6.0->tensorflow) (0.38.4)\n",
            "Requirement already satisfied: google-auth<3,>=1.6.3 in /usr/local/lib/python3.8/dist-packages (from tensorboard<2.10,>=2.9->tensorflow) (2.15.0)\n",
            "Requirement already satisfied: tensorboard-plugin-wit>=1.6.0 in /usr/local/lib/python3.8/dist-packages (from tensorboard<2.10,>=2.9->tensorflow) (1.8.1)\n",
            "Requirement already satisfied: werkzeug>=1.0.1 in /usr/local/lib/python3.8/dist-packages (from tensorboard<2.10,>=2.9->tensorflow) (1.0.1)\n",
            "Requirement already satisfied: requests<3,>=2.21.0 in /usr/local/lib/python3.8/dist-packages (from tensorboard<2.10,>=2.9->tensorflow) (2.25.1)\n",
            "Requirement already satisfied: google-auth-oauthlib<0.5,>=0.4.1 in /usr/local/lib/python3.8/dist-packages (from tensorboard<2.10,>=2.9->tensorflow) (0.4.6)\n",
            "Requirement already satisfied: markdown>=2.6.8 in /usr/local/lib/python3.8/dist-packages (from tensorboard<2.10,>=2.9->tensorflow) (3.4.1)\n",
            "Requirement already satisfied: tensorboard-data-server<0.7.0,>=0.6.0 in /usr/local/lib/python3.8/dist-packages (from tensorboard<2.10,>=2.9->tensorflow) (0.6.1)\n",
            "Requirement already satisfied: pyparsing!=3.0.5,>=2.0.2 in /usr/local/lib/python3.8/dist-packages (from packaging->tensorflow) (3.0.9)\n",
            "Requirement already satisfied: cachetools<6.0,>=2.0.0 in /usr/local/lib/python3.8/dist-packages (from google-auth<3,>=1.6.3->tensorboard<2.10,>=2.9->tensorflow) (5.2.0)\n",
            "Requirement already satisfied: pyasn1-modules>=0.2.1 in /usr/local/lib/python3.8/dist-packages (from google-auth<3,>=1.6.3->tensorboard<2.10,>=2.9->tensorflow) (0.2.8)\n",
            "Requirement already satisfied: rsa<5,>=3.1.4 in /usr/local/lib/python3.8/dist-packages (from google-auth<3,>=1.6.3->tensorboard<2.10,>=2.9->tensorflow) (4.9)\n",
            "Requirement already satisfied: requests-oauthlib>=0.7.0 in /usr/local/lib/python3.8/dist-packages (from google-auth-oauthlib<0.5,>=0.4.1->tensorboard<2.10,>=2.9->tensorflow) (1.3.1)\n",
            "Requirement already satisfied: importlib-metadata>=4.4 in /usr/local/lib/python3.8/dist-packages (from markdown>=2.6.8->tensorboard<2.10,>=2.9->tensorflow) (5.2.0)\n",
            "Requirement already satisfied: certifi>=2017.4.17 in /usr/local/lib/python3.8/dist-packages (from requests<3,>=2.21.0->tensorboard<2.10,>=2.9->tensorflow) (2022.12.7)\n",
            "Requirement already satisfied: urllib3<1.27,>=1.21.1 in /usr/local/lib/python3.8/dist-packages (from requests<3,>=2.21.0->tensorboard<2.10,>=2.9->tensorflow) (1.24.3)\n",
            "Requirement already satisfied: idna<3,>=2.5 in /usr/local/lib/python3.8/dist-packages (from requests<3,>=2.21.0->tensorboard<2.10,>=2.9->tensorflow) (2.10)\n",
            "Requirement already satisfied: chardet<5,>=3.0.2 in /usr/local/lib/python3.8/dist-packages (from requests<3,>=2.21.0->tensorboard<2.10,>=2.9->tensorflow) (4.0.0)\n",
            "Requirement already satisfied: zipp>=0.5 in /usr/local/lib/python3.8/dist-packages (from importlib-metadata>=4.4->markdown>=2.6.8->tensorboard<2.10,>=2.9->tensorflow) (3.11.0)\n",
            "Requirement already satisfied: pyasn1<0.5.0,>=0.4.6 in /usr/local/lib/python3.8/dist-packages (from pyasn1-modules>=0.2.1->google-auth<3,>=1.6.3->tensorboard<2.10,>=2.9->tensorflow) (0.4.8)\n",
            "Requirement already satisfied: oauthlib>=3.0.0 in /usr/local/lib/python3.8/dist-packages (from requests-oauthlib>=0.7.0->google-auth-oauthlib<0.5,>=0.4.1->tensorboard<2.10,>=2.9->tensorflow) (3.2.2)\n"
          ]
        }
      ]
    },
    {
      "cell_type": "code",
      "execution_count": 4,
      "metadata": {
        "id": "tjr00Jt7nXne"
      },
      "outputs": [],
      "source": [
        "import tensorflow as tf\n",
        "from keras.preprocessing.image import ImageDataGenerator\n",
        "import os\n"
      ]
    },
    {
      "cell_type": "markdown",
      "metadata": {
        "id": "I0CCjin1nXng"
      },
      "source": [
        "###1. Data Preprocessing"
      ]
    },
    {
      "cell_type": "markdown",
      "metadata": {
        "id": "atqJW_-vnXng"
      },
      "source": [
        "#### Generating images for the Training set"
      ]
    },
    {
      "cell_type": "code",
      "execution_count": 5,
      "metadata": {
        "id": "VcJYSHJRnXng"
      },
      "outputs": [],
      "source": [
        "train_datagen = ImageDataGenerator(rescale = 1./255,\n",
        "                                   shear_range = 0.2,\n",
        "                                   zoom_range = 0.2,\n",
        "                                   horizontal_flip = True)"
      ]
    },
    {
      "cell_type": "markdown",
      "metadata": {
        "id": "SUIFYyq8nXnh"
      },
      "source": [
        "#### Generating images for the Test set"
      ]
    },
    {
      "cell_type": "code",
      "execution_count": 6,
      "metadata": {
        "id": "nY1md136nXnh"
      },
      "outputs": [],
      "source": [
        "test_datagen = ImageDataGenerator(rescale = 1./255)"
      ]
    },
    {
      "cell_type": "markdown",
      "metadata": {
        "id": "VchpvHFPnXnh"
      },
      "source": [
        "### Creating the Training set"
      ]
    },
    {
      "cell_type": "code",
      "execution_count": 9,
      "metadata": {
        "colab": {
          "base_uri": "https://localhost:8080/"
        },
        "id": "4Rr_8mimnXni",
        "outputId": "1b9b133c-1a7f-4191-c6a3-8e05a2f97cd8"
      },
      "outputs": [
        {
          "output_type": "stream",
          "name": "stdout",
          "text": [
            "Found 12845 images belonging to 27 classes.\n"
          ]
        }
      ],
      "source": [
        "training_set = train_datagen.flow_from_directory('/content/drive/MyDrive/datascience/dataset/trainingData',                                \n",
        "                                                 target_size = (128, 128),\n",
        "                                                 batch_size = 10,\n",
        "                                                 color_mode = 'grayscale',                                \n",
        "                                                 class_mode = 'categorical')"
      ]
    },
    {
      "cell_type": "code",
      "execution_count": 10,
      "metadata": {
        "colab": {
          "base_uri": "https://localhost:8080/"
        },
        "id": "Vf0US7xpnXni",
        "outputId": "0ed995a9-2e00-4c32-beaa-2dd9c8fd4e3d"
      },
      "outputs": [
        {
          "output_type": "stream",
          "name": "stdout",
          "text": [
            "Found 4268 images belonging to 27 classes.\n"
          ]
        }
      ],
      "source": [
        "test_set = test_datagen.flow_from_directory('/content/drive/MyDrive/datascience/dataset/testingData',\n",
        "                                            target_size = (128, 128),                                  \n",
        "                                            batch_size = 10,        \n",
        "                                            color_mode = 'grayscale',\n",
        "                                            class_mode = 'categorical')"
      ]
    },
    {
      "cell_type": "markdown",
      "metadata": {
        "id": "dN8DYa4inXni"
      },
      "source": [
        "### Part 2 - Building the CNN"
      ]
    },
    {
      "cell_type": "markdown",
      "metadata": {
        "id": "HjSDq7YfnXnj"
      },
      "source": [
        "#### Initializing the CNN"
      ]
    },
    {
      "cell_type": "code",
      "execution_count": 11,
      "metadata": {
        "id": "Ymwm2KQknXnj"
      },
      "outputs": [],
      "source": [
        "classifier = tf.keras.models.Sequential()"
      ]
    },
    {
      "cell_type": "markdown",
      "metadata": {
        "id": "h0irPMABnXnj"
      },
      "source": [
        "#### Step 1 - Convolution"
      ]
    },
    {
      "cell_type": "code",
      "execution_count": 12,
      "metadata": {
        "id": "9M9oABtBnXnj"
      },
      "outputs": [],
      "source": [
        "classifier.add(tf.keras.layers.Conv2D(filters=32,\n",
        "                                     kernel_size=3, \n",
        "                                     padding=\"same\", \n",
        "                                     activation=\"relu\", \n",
        "                                     input_shape=[128, 128, 1]))"
      ]
    },
    {
      "cell_type": "markdown",
      "metadata": {
        "id": "giWNBwgvnXnj"
      },
      "source": [
        "#### Step 2 - Pooling"
      ]
    },
    {
      "cell_type": "code",
      "execution_count": 13,
      "metadata": {
        "id": "nY7fseVAnXnk"
      },
      "outputs": [],
      "source": [
        "classifier.add(tf.keras.layers.MaxPool2D(pool_size=2, \n",
        "                                         strides=2, \n",
        "                                         padding='valid'))"
      ]
    },
    {
      "cell_type": "markdown",
      "metadata": {
        "id": "UO0FJWW1nXnk"
      },
      "source": [
        "#### Adding a second convolutional layer"
      ]
    },
    {
      "cell_type": "code",
      "execution_count": 14,
      "metadata": {
        "id": "6hZ_cKeknXnk"
      },
      "outputs": [],
      "source": [
        "classifier.add(tf.keras.layers.Conv2D(filters=32, \n",
        "                                      kernel_size=3, \n",
        "                                      padding=\"same\", \n",
        "                                      activation=\"relu\"))\n",
        "\n",
        "classifier.add(tf.keras.layers.MaxPool2D(pool_size=2, \n",
        "                                         strides=2, \n",
        "                                         padding='valid'))"
      ]
    },
    {
      "cell_type": "markdown",
      "metadata": {
        "id": "6WdY_CQRnXnk"
      },
      "source": [
        "#### Step 3 - Flattening"
      ]
    },
    {
      "cell_type": "code",
      "execution_count": 15,
      "metadata": {
        "id": "XWkGnplmnXnk"
      },
      "outputs": [],
      "source": [
        "classifier.add(tf.keras.layers.Flatten())"
      ]
    },
    {
      "cell_type": "markdown",
      "metadata": {
        "id": "E-gRkPXQnXnl"
      },
      "source": [
        "#### Step 4 - Fully Connection"
      ]
    },
    {
      "cell_type": "code",
      "execution_count": 16,
      "metadata": {
        "id": "rpDnB_2lnXnl"
      },
      "outputs": [],
      "source": [
        "classifier.add(tf.keras.layers.Dense(units=128, \n",
        "                                     activation='relu'))\n",
        "classifier.add(tf.keras.layers.Dropout(0.40))\n",
        "classifier.add(tf.keras.layers.Dense(units=96, activation='relu'))\n",
        "classifier.add(tf.keras.layers.Dropout(0.40))\n",
        "classifier.add(tf.keras.layers.Dense(units=64, activation='relu'))\n",
        "classifier.add(tf.keras.layers.Dense(units=27, activation='softmax')) # softmax for more than 2"
      ]
    },
    {
      "cell_type": "markdown",
      "metadata": {
        "id": "ux7T4QNjnXnl"
      },
      "source": [
        "### Part 3 - Training the CNN"
      ]
    },
    {
      "cell_type": "markdown",
      "metadata": {
        "id": "aemtBEVrnXnl"
      },
      "source": [
        "#### Compiling the CNN"
      ]
    },
    {
      "cell_type": "code",
      "execution_count": 17,
      "metadata": {
        "id": "upxE49zXnXnl"
      },
      "outputs": [],
      "source": [
        "classifier.compile(optimizer = 'adam', \n",
        "                   loss = 'categorical_crossentropy', \n",
        "                   metrics = ['accuracy'])"
      ]
    },
    {
      "cell_type": "markdown",
      "metadata": {
        "id": "PjqnxdJ0nXnl"
      },
      "source": [
        "#### Training the CNN on the Training set and evaluating it on the Test set"
      ]
    },
    {
      "cell_type": "code",
      "execution_count": 18,
      "metadata": {
        "colab": {
          "base_uri": "https://localhost:8080/"
        },
        "id": "Pk7wUFE0nXnl",
        "outputId": "3d0f74fc-014f-487d-bedb-f761c0507f98"
      },
      "outputs": [
        {
          "output_type": "stream",
          "name": "stdout",
          "text": [
            "Model: \"sequential\"\n",
            "_________________________________________________________________\n",
            " Layer (type)                Output Shape              Param #   \n",
            "=================================================================\n",
            " conv2d (Conv2D)             (None, 128, 128, 32)      320       \n",
            "                                                                 \n",
            " max_pooling2d (MaxPooling2D  (None, 64, 64, 32)       0         \n",
            " )                                                               \n",
            "                                                                 \n",
            " conv2d_1 (Conv2D)           (None, 64, 64, 32)        9248      \n",
            "                                                                 \n",
            " max_pooling2d_1 (MaxPooling  (None, 32, 32, 32)       0         \n",
            " 2D)                                                             \n",
            "                                                                 \n",
            " flatten (Flatten)           (None, 32768)             0         \n",
            "                                                                 \n",
            " dense (Dense)               (None, 128)               4194432   \n",
            "                                                                 \n",
            " dropout (Dropout)           (None, 128)               0         \n",
            "                                                                 \n",
            " dense_1 (Dense)             (None, 96)                12384     \n",
            "                                                                 \n",
            " dropout_1 (Dropout)         (None, 96)                0         \n",
            "                                                                 \n",
            " dense_2 (Dense)             (None, 64)                6208      \n",
            "                                                                 \n",
            " dense_3 (Dense)             (None, 27)                1755      \n",
            "                                                                 \n",
            "=================================================================\n",
            "Total params: 4,224,347\n",
            "Trainable params: 4,224,347\n",
            "Non-trainable params: 0\n",
            "_________________________________________________________________\n"
          ]
        }
      ],
      "source": [
        "classifier.summary()"
      ]
    },
    {
      "cell_type": "code",
      "execution_count": 19,
      "metadata": {
        "colab": {
          "base_uri": "https://localhost:8080/"
        },
        "id": "nWsINpgwnXnm",
        "outputId": "adca1927-6559-4092-a390-b4ce6b27c3d3"
      },
      "outputs": [
        {
          "output_type": "stream",
          "name": "stdout",
          "text": [
            "Epoch 1/5\n",
            "1285/1285 [==============================] - 70s 48ms/step - loss: 2.2506 - accuracy: 0.3030 - val_loss: 0.3905 - val_accuracy: 0.8873\n",
            "Epoch 2/5\n",
            "1285/1285 [==============================] - 59s 46ms/step - loss: 0.7823 - accuracy: 0.7283 - val_loss: 0.1218 - val_accuracy: 0.9665\n",
            "Epoch 3/5\n",
            "1285/1285 [==============================] - 58s 45ms/step - loss: 0.5218 - accuracy: 0.8241 - val_loss: 0.0548 - val_accuracy: 0.9850\n",
            "Epoch 4/5\n",
            "1285/1285 [==============================] - 59s 46ms/step - loss: 0.4225 - accuracy: 0.8585 - val_loss: 0.0531 - val_accuracy: 0.9829\n",
            "Epoch 5/5\n",
            "1285/1285 [==============================] - 58s 45ms/step - loss: 0.3581 - accuracy: 0.8864 - val_loss: 0.0252 - val_accuracy: 0.9939\n"
          ]
        }
      ],
      "source": [
        "model = classifier.fit(training_set,\n",
        "                  epochs = 5,\n",
        "                  validation_data = test_set)"
      ]
    },
    {
      "cell_type": "code",
      "source": [
        "import matplotlib.pyplot as plt\n",
        "\n",
        "epochs = [i for i in range(5)]\n",
        "fig , ax = plt.subplots(1,2)\n",
        "train_acc = model.history['accuracy']\n",
        "train_loss = model.history['loss']\n",
        "val_acc = model.history['val_accuracy']\n",
        "val_loss = model.history['val_loss']\n",
        "fig.set_size_inches(16,9)\n",
        "\n",
        "ax[0].plot(epochs , train_acc , 'go-' , label = 'Training Accuracy')\n",
        "ax[0].plot(epochs , val_acc , 'ro-' , label = 'Testing Accuracy')\n",
        "ax[0].set_title('Training & Validation Accuracy')\n",
        "ax[0].legend()\n",
        "ax[0].set_xlabel(\"Epochs\")\n",
        "ax[0].set_ylabel(\"Accuracy\")\n",
        "\n",
        "ax[1].plot(epochs , train_loss , 'g-o' , label = 'Training Loss')\n",
        "ax[1].plot(epochs , val_loss , 'r-o' , label = 'Testing Loss')\n",
        "ax[1].set_title('Testing Accuracy & Loss')\n",
        "ax[1].legend()\n",
        "ax[1].set_xlabel(\"Epochs\")\n",
        "ax[1].set_ylabel(\"Loss\")\n",
        "plt.show()"
      ],
      "metadata": {
        "colab": {
          "base_uri": "https://localhost:8080/",
          "height": 567
        },
        "id": "yGlPCAPUVccx",
        "outputId": "e7f5c6c4-3a46-4784-bf2b-5ca903adfb48"
      },
      "execution_count": 21,
      "outputs": [
        {
          "output_type": "display_data",
          "data": {
            "text/plain": [
              "<Figure size 1152x648 with 2 Axes>"
            ],
            "image/png": "[encoded data removed]"
          },
          "metadata": {
            "needs_background": "light"
          }
        }
      ]
    },
    {
      "cell_type": "markdown",
      "source": [
        "### Saving the Model"
      ],
      "metadata": {
        "id": "lNm4kCiDPrAQ"
      }
    },
    {
      "cell_type": "code",
      "source": [
        "classifier.save('/content/drive/MyDrive/ml/myModel.h5')"
      ],
      "metadata": {
        "id": "P2uaio6EqZC0"
      },
      "execution_count": null,
      "outputs": []
    }
  ],
  "metadata": {
    "kernelspec": {
      "display_name": "Python 3",
      "language": "python",
      "name": "python3"
    },
    "language_info": {
      "codemirror_mode": {
        "name": "ipython",
        "version": 3
      },
      "file_extension": ".py",
      "mimetype": "text/x-python",
      "name": "python",
      "nbconvert_exporter": "python",
      "pygments_lexer": "ipython3",
      "version": "3.8.6rc1"
    },
    "colab": {
      "provenance": []
    },
    "accelerator": "GPU",
    "gpuClass": "standard"
  },
  "nbformat": 4,
  "nbformat_minor": 0
}